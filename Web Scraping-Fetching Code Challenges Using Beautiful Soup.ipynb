{
 "cells": [
  {
   "cell_type": "markdown",
   "id": "f447faec",
   "metadata": {},
   "source": [
    "##1. Importing Libraries"
   ]
  },
  {
   "cell_type": "code",
   "execution_count": 8,
   "id": "1b2c9415",
   "metadata": {},
   "outputs": [],
   "source": [
    "import requests \n",
    "from bs4 import BeautifulSoup"
   ]
  },
  {
   "cell_type": "code",
   "execution_count": 14,
   "id": "f4ac71a2",
   "metadata": {},
   "outputs": [
    {
     "data": {
      "text/plain": [
       "200"
      ]
     },
     "execution_count": 14,
     "metadata": {},
     "output_type": "execute_result"
    }
   ],
   "source": [
    "r = requests.get('https://codingchallenges.fyi/challenges/challenge-calculator')\n",
    "r.status_code  # status code 200 defines Success - OK"
   ]
  },
  {
   "cell_type": "markdown",
   "id": "9d82a310",
   "metadata": {},
   "source": [
    "# Parsing the data"
   ]
  },
  {
   "cell_type": "code",
   "execution_count": 15,
   "id": "da33f30f",
   "metadata": {},
   "outputs": [
    {
     "data": {
      "text/plain": [
       "[<a class=\"menu__link\" href=\"/challenges/intro\">Coding Challenges - Intro</a>,\n",
       " <a class=\"menu__link\" href=\"/challenges/challenge-wc\">Build Your Own wc Tool</a>,\n",
       " <a class=\"menu__link\" href=\"/challenges/challenge-json-parser\">Build Your Own JSON Parser</a>,\n",
       " <a class=\"menu__link\" href=\"/challenges/challenge-huffman\">Build Your Own Compression Tool</a>,\n",
       " <a class=\"menu__link\" href=\"/challenges/challenge-cut\">Build Your Own cut Tool</a>,\n",
       " <a class=\"menu__link\" href=\"/challenges/challenge-load-balancer\">Build You Own Load Balancer</a>,\n",
       " <a class=\"menu__link\" href=\"/challenges/challenge-sort\">Build Your Own Sort Tool</a>,\n",
       " <a aria-current=\"page\" class=\"menu__link menu__link--active\" href=\"/challenges/challenge-calculator\">Build Your Own Calculator</a>,\n",
       " <a class=\"menu__link\" href=\"/challenges/challenge-redis\">Build Your Own Redis Server</a>,\n",
       " <a class=\"menu__link\" href=\"/challenges/challenge-grep\">Build Your Own grep</a>,\n",
       " <a class=\"menu__link\" href=\"/challenges/challenge-uniq\">Build Your Own uniq Tool</a>,\n",
       " <a class=\"menu__link\" href=\"/challenges/challenge-webserver\">Build Your Own Web Server</a>,\n",
       " <a class=\"menu__link\" href=\"/challenges/challenge-url-shortener\">Build Your Own URL Shortener</a>,\n",
       " <a class=\"menu__link\" href=\"/challenges/challenge-diff\">Build Your Own diff Tool</a>,\n",
       " <a class=\"menu__link\" href=\"/challenges/challenge-shell\">Build Your Own Shell</a>,\n",
       " <a class=\"menu__link\" href=\"/challenges/challenge-cat\">Build Your Own cat Tool</a>,\n",
       " <a class=\"menu__link\" href=\"/challenges/challenge-irc\">Build Your Own IRC Client</a>,\n",
       " <a class=\"menu__link\" href=\"/challenges/challenge-memcached\">Build Your Own Memcached Server</a>,\n",
       " <a class=\"menu__link\" href=\"/challenges/challenge-spotify\">Build Your Own Spotify Client</a>,\n",
       " <a class=\"menu__link\" href=\"/challenges/challenge-discord\">Build Your Own Discord Bot</a>,\n",
       " <a class=\"menu__link\" href=\"/challenges/challenge-licq\">Build Your Own LinkedIn Carousel Generator</a>,\n",
       " <a class=\"menu__link\" href=\"/challenges/challenge-sed\">Build Your Own Sed</a>,\n",
       " <a class=\"menu__link\" href=\"/challenges/challenge-dns-resolver\">Build Your Own DNS Resolver</a>,\n",
       " <a class=\"menu__link\" href=\"/challenges/challenge-traceroute\">Build Your Own Traceroute</a>,\n",
       " <a class=\"menu__link\" href=\"/challenges/challenge-realtime-chat\">Build Your Own Realtime Chat Client and Server</a>,\n",
       " <a class=\"menu__link\" href=\"/challenges/challenge-nats\">Build Your Own NATS Message Broker</a>,\n",
       " <a class=\"menu__link\" href=\"/challenges/challenge-git\">Build Your Own Git</a>,\n",
       " <a class=\"menu__link\" href=\"/challenges/challenge-rate-limiter\">Build Your Own Rate Limiter</a>,\n",
       " <a class=\"menu__link\" href=\"/challenges/challenge-ntp\">Build Your Own NTP Client</a>,\n",
       " <a class=\"menu__link\" href=\"/challenges/challenge-scheduler\">Build Your Own Scheduling Automation App</a>,\n",
       " <a class=\"menu__link\" href=\"/challenges/challenge-lisp\">Build Your Own Lisp Interpreter</a>,\n",
       " <a class=\"menu__link\" href=\"/challenges/challenge-qr-generator\">Build Your Own QR Code Generator</a>,\n",
       " <a class=\"menu__link\" href=\"/challenges/challenge-cron\">Build Your Own Crontab Tool</a>,\n",
       " <a class=\"menu__link\" href=\"/challenges/challenge-head\">Build Your Own head</a>,\n",
       " <a class=\"menu__link\" href=\"/challenges/challenge-jq\">Build Your Own jq</a>,\n",
       " <a class=\"menu__link\" href=\"/challenges/challenge-keep\">Build Your Own Google Keep</a>,\n",
       " <a class=\"menu__link\" href=\"/challenges/challenge-pong\">Build Your Own Pong</a>,\n",
       " <a class=\"menu__link\" href=\"/challenges/challenge-redis-cli\">Build Your Own Redis CLI Tool</a>,\n",
       " <a class=\"menu__link\" href=\"/challenges/challenge-network-modeller\">Build Your Own Network Modelling Tool</a>,\n",
       " <a class=\"menu__link\" href=\"/challenges/challenge-sm-tool\">Build Your Own Social Media Tool</a>,\n",
       " <a class=\"menu__link\" href=\"/challenges/challenge-curl\">Build Your Own curl</a>,\n",
       " <a class=\"menu__link\" href=\"/challenges/challenge-load-tester\">Build Your Own HTTP(S) Load Tester</a>,\n",
       " <a class=\"menu__link\" href=\"/challenges/challenge-tr\">Build Your Own tr Tool.</a>,\n",
       " <a class=\"menu__link\" href=\"/challenges/challenge-tetris\">Build Your Own Tetris</a>,\n",
       " <a class=\"menu__link\" href=\"/challenges/challenge-dns-forwarder\">Build Your Own DNS Forwarder</a>,\n",
       " <a class=\"menu__link\" href=\"/challenges/challenge-port-scanner\">Build Your Own Port Scanner</a>,\n",
       " <a class=\"menu__link\" href=\"/challenges/challenge-yq\">Build Your Own yq</a>,\n",
       " <a class=\"menu__link\" href=\"/challenges/challenge-chrome-extension\">Build Your Own Chrome Extension</a>,\n",
       " <a class=\"menu__link\" href=\"/challenges/challenge-data-privacy-vault\">Build Your Own Data Privacy Vault</a>,\n",
       " <a class=\"menu__link\" href=\"/challenges/challenge-password-cracker\">Build Your Own Password Cracker</a>,\n",
       " <a class=\"menu__link\" href=\"/challenges/challenge-xargs\">Build Your Own Xargs</a>,\n",
       " <a class=\"menu__link\" href=\"/challenges/challenge-forward-proxy\">Build Your Own HTTP Forward Proxy Server</a>,\n",
       " <a class=\"menu__link\" href=\"/challenges/challenge-docker\">Build Your Own Docker</a>,\n",
       " <a class=\"menu__link\" href=\"/challenges/challenge-bloom\">Build Your Own Spell Checker Using A Bloom Filter</a>,\n",
       " <a class=\"menu__link\" href=\"/challenges/challenge-tar\">Build Your Own Tar</a>,\n",
       " <a class=\"menu__link\" href=\"/challenges/challenge-xxd\">Build Your Own Xxd</a>,\n",
       " <a class=\"menu__link\" href=\"/challenges/challenge-chess\">Build Your Own Chess Game</a>,\n",
       " <a class=\"menu__link\" href=\"/challenges/challenge-snake\">Build Your Own Snake Game</a>,\n",
       " <a class=\"menu__link\" href=\"/challenges/challenge-password-manager\">Build Your Own Password Manager</a>,\n",
       " <a class=\"menu__link\" href=\"/challenges/challenge-netcat\">Build Your Own Netcat</a>,\n",
       " <a class=\"menu__link\" href=\"/challenges/challenge-pastebin\">Build Your Own Pastebin</a>,\n",
       " <a class=\"menu__link\" href=\"/challenges/challenge-dropbox\">Build Your Own Dropbox</a>]"
      ]
     },
     "execution_count": 15,
     "metadata": {},
     "output_type": "execute_result"
    }
   ],
   "source": [
    "book_soup = BeautifulSoup(r.content, 'html.parser')\n",
    "categories=book_soup.find_all('a',attrs={'class':'menu__link'})\n",
    "categories"
   ]
  },
  {
   "cell_type": "markdown",
   "id": "1436598d",
   "metadata": {},
   "source": [
    "# 5. Organizing the data\n",
    "We only need the categories, rest of the data is useless\n",
    "Each category have hyperlink to respective challenges"
   ]
  },
  {
   "cell_type": "code",
   "execution_count": 16,
   "id": "5a77310b",
   "metadata": {},
   "outputs": [],
   "source": [
    "txt_categories=[]\n",
    "for tag in categories:\n",
    "    if 'challenges' in tag.get('href'):\n",
    "        txt_categories.append(tag.string)"
   ]
  },
  {
   "cell_type": "code",
   "execution_count": 17,
   "id": "6a35fc9c",
   "metadata": {},
   "outputs": [
    {
     "name": "stdout",
     "output_type": "stream",
     "text": [
      "Coding Challenges - Intro\n",
      "Build Your Own wc Tool\n",
      "Build Your Own JSON Parser\n",
      "Build Your Own Compression Tool\n",
      "Build Your Own cut Tool\n",
      "Build You Own Load Balancer\n",
      "Build Your Own Sort Tool\n",
      "Build Your Own Calculator\n",
      "Build Your Own Redis Server\n",
      "Build Your Own grep\n",
      "Build Your Own uniq Tool\n",
      "Build Your Own Web Server\n",
      "Build Your Own URL Shortener\n",
      "Build Your Own diff Tool\n",
      "Build Your Own Shell\n",
      "Build Your Own cat Tool\n",
      "Build Your Own IRC Client\n",
      "Build Your Own Memcached Server\n",
      "Build Your Own Spotify Client\n",
      "Build Your Own Discord Bot\n",
      "Build Your Own LinkedIn Carousel Generator\n",
      "Build Your Own Sed\n",
      "Build Your Own DNS Resolver\n",
      "Build Your Own Traceroute\n",
      "Build Your Own Realtime Chat Client and Server\n",
      "Build Your Own NATS Message Broker\n",
      "Build Your Own Git\n",
      "Build Your Own Rate Limiter\n",
      "Build Your Own NTP Client\n",
      "Build Your Own Scheduling Automation App\n",
      "Build Your Own Lisp Interpreter\n",
      "Build Your Own QR Code Generator\n",
      "Build Your Own Crontab Tool\n",
      "Build Your Own head\n",
      "Build Your Own jq\n",
      "Build Your Own Google Keep\n",
      "Build Your Own Pong\n",
      "Build Your Own Redis CLI Tool\n",
      "Build Your Own Network Modelling Tool\n",
      "Build Your Own Social Media Tool\n",
      "Build Your Own curl\n",
      "Build Your Own HTTP(S) Load Tester\n",
      "Build Your Own tr Tool.\n",
      "Build Your Own Tetris\n",
      "Build Your Own DNS Forwarder\n",
      "Build Your Own Port Scanner\n",
      "Build Your Own yq\n",
      "Build Your Own Chrome Extension\n",
      "Build Your Own Data Privacy Vault\n",
      "Build Your Own Password Cracker\n",
      "Build Your Own Xargs\n",
      "Build Your Own HTTP Forward Proxy Server\n",
      "Build Your Own Docker\n",
      "Build Your Own Spell Checker Using A Bloom Filter\n",
      "Build Your Own Tar\n",
      "Build Your Own Xxd\n",
      "Build Your Own Chess Game\n",
      "Build Your Own Snake Game\n",
      "Build Your Own Password Manager\n",
      "Build Your Own Netcat\n",
      "Build Your Own Pastebin\n",
      "Build Your Own Dropbox\n"
     ]
    }
   ],
   "source": [
    "for category in txt_categories:\n",
    "    print(category)"
   ]
  }
 ],
 "metadata": {
  "kernelspec": {
   "display_name": "Python 3 (ipykernel)",
   "language": "python",
   "name": "python3"
  },
  "language_info": {
   "codemirror_mode": {
    "name": "ipython",
    "version": 3
   },
   "file_extension": ".py",
   "mimetype": "text/x-python",
   "name": "python",
   "nbconvert_exporter": "python",
   "pygments_lexer": "ipython3",
   "version": "3.11.5"
  }
 },
 "nbformat": 4,
 "nbformat_minor": 5
}
