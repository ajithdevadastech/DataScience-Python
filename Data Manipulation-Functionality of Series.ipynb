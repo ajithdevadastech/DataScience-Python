{
 "cells": [
  {
   "cell_type": "markdown",
   "id": "180a295c",
   "metadata": {},
   "source": [
    "# Question 1:\n",
    "1) Create a pandas Series from a list  x = [13, -5, 7, 19]\n",
    "2) Create a series using a numpy array having values \"23, 3.0, 7, 11\" and specifying index values as \"a, b, c, d\"\n",
    "3) Get the values and index of the series of the above series\n",
    "4) Access individual elements of the string\n",
    "5) Assign new values to the elements"
   ]
  },
  {
   "cell_type": "code",
   "execution_count": 1,
   "id": "7106aca3",
   "metadata": {},
   "outputs": [
    {
     "name": "stdout",
     "output_type": "stream",
     "text": [
      "0    13\n",
      "1    -5\n",
      "2     7\n",
      "3    19\n",
      "dtype: int64\n"
     ]
    }
   ],
   "source": [
    "# Import the required libraries\n",
    "\n",
    "import pandas as pd\n",
    "import numpy as np\n",
    "\n",
    "# 1.1 Create a pandas Series from a list  x = [13, -5, 7, 19]\n",
    "x = [13, -5, 7, 19]\n",
    "s1 = pd.Series(x)\n",
    "\n",
    "# Print the series and observe the default indices created\n",
    "print(s1)"
   ]
  },
  {
   "cell_type": "code",
   "execution_count": null,
   "id": "834ecf73",
   "metadata": {},
   "outputs": [],
   "source": [
    "# Notice that the data type is automatically set for the series as 'int64'"
   ]
  },
  {
   "cell_type": "code",
   "execution_count": 2,
   "id": "63150e97",
   "metadata": {},
   "outputs": [
    {
     "name": "stdout",
     "output_type": "stream",
     "text": [
      "a    23.0\n",
      "b     3.0\n",
      "c     7.0\n",
      "d    11.0\n",
      "dtype: float64\n"
     ]
    }
   ],
   "source": [
    "# 1.2 Create a series using a numpy array\n",
    "\n",
    "y = np.array([23, 3., 7, 11])\n",
    "s2 = pd.Series(y, index=['a', 'b', 'c', 'd'])\n",
    "\n",
    "print(s2)"
   ]
  },
  {
   "cell_type": "code",
   "execution_count": 3,
   "id": "f3eb0841",
   "metadata": {},
   "outputs": [
    {
     "data": {
      "text/plain": [
       "dtype('float64')"
      ]
     },
     "execution_count": 3,
     "metadata": {},
     "output_type": "execute_result"
    }
   ],
   "source": [
    "# Note that indices are specifies at the time of creation.\n",
    "\n",
    "# Check the data type of the series\n",
    "s2.dtype"
   ]
  },
  {
   "cell_type": "code",
   "execution_count": 4,
   "id": "b2d7378d",
   "metadata": {},
   "outputs": [],
   "source": [
    "# The data type is set as float since one of the values is a float"
   ]
  },
  {
   "cell_type": "code",
   "execution_count": 5,
   "id": "a0d32d21",
   "metadata": {},
   "outputs": [
    {
     "name": "stdout",
     "output_type": "stream",
     "text": [
      "Values: [23.  3.  7. 11.]\n",
      "Index: Index(['a', 'b', 'c', 'd'], dtype='object')\n"
     ]
    }
   ],
   "source": [
    "# 1.3 Get the values and index of the series\n",
    "\n",
    "print(\"Values:\", s2.values)\n",
    "\n",
    "print(\"Index:\", s2.index)"
   ]
  },
  {
   "cell_type": "code",
   "execution_count": 6,
   "id": "6e036251",
   "metadata": {},
   "outputs": [
    {
     "name": "stdout",
     "output_type": "stream",
     "text": [
      "Third element:  7.0\n",
      "First two elements:\n",
      "\n",
      "a    23.0\n",
      "b     3.0\n",
      "dtype: float64\n",
      "Element having index 'd':\n",
      "11.0\n"
     ]
    }
   ],
   "source": [
    "# 1.4 Access the elements of Series\n",
    "\n",
    "print(\"Third element: \", s2[2])\n",
    "\n",
    "print(\"First two elements:\\n\")\n",
    "print(s2[0:2])\n",
    "\n",
    "print(\"Element having index 'd':\")\n",
    "print(s2['d'])"
   ]
  },
  {
   "cell_type": "code",
   "execution_count": 7,
   "id": "10e8f72d",
   "metadata": {},
   "outputs": [
    {
     "name": "stdout",
     "output_type": "stream",
     "text": [
      "a    10.0\n",
      "b    11.0\n",
      "c     7.0\n",
      "d    11.0\n",
      "dtype: float64\n"
     ]
    }
   ],
   "source": [
    "# 1.5 Assign new values to the elements\n",
    "\n",
    "s2['a'] = 10\n",
    "\n",
    "s2[1] = 11\n",
    "print(s2)"
   ]
  },
  {
   "cell_type": "markdown",
   "id": "fe22b1ad",
   "metadata": {},
   "source": [
    "# Question 2:¶\n",
    "From the raw data below create a pandas Series\n",
    "\n",
    "'Amit', 'Bob', 'Kate', 'A', 'b', np.nan, 'Car', 'dog', 'cat'\n",
    "\n",
    "1) Print all elements in lower case\n",
    "2) Print all the elements in upper case\t\n",
    "3) Print the length of all the elements"
   ]
  },
  {
   "cell_type": "code",
   "execution_count": 8,
   "id": "d72f0606",
   "metadata": {},
   "outputs": [
    {
     "name": "stdout",
     "output_type": "stream",
     "text": [
      "0    amit\n",
      "1     bob\n",
      "2    kate\n",
      "3       a\n",
      "4       b\n",
      "5     NaN\n",
      "6     car\n",
      "7     dog\n",
      "8     cat\n",
      "dtype: object\n"
     ]
    }
   ],
   "source": [
    "# 2.1\n",
    "s = pd.Series(['Amit', 'Bob', 'Kate', 'A', 'b', np.nan, 'Car', 'dog', 'cat'])\n",
    "print(s.str.lower())"
   ]
  },
  {
   "cell_type": "code",
   "execution_count": 9,
   "id": "311c2e44",
   "metadata": {},
   "outputs": [
    {
     "name": "stdout",
     "output_type": "stream",
     "text": [
      "0    AMIT\n",
      "1     BOB\n",
      "2    KATE\n",
      "3       A\n",
      "4       B\n",
      "5     NaN\n",
      "6     CAR\n",
      "7     DOG\n",
      "8     CAT\n",
      "dtype: object\n"
     ]
    }
   ],
   "source": [
    "# 2.2\n",
    "\n",
    "print(s.str.upper()) "
   ]
  },
  {
   "cell_type": "code",
   "execution_count": 10,
   "id": "5c4baca8",
   "metadata": {},
   "outputs": [
    {
     "name": "stdout",
     "output_type": "stream",
     "text": [
      "0    4.0\n",
      "1    3.0\n",
      "2    4.0\n",
      "3    1.0\n",
      "4    1.0\n",
      "5    NaN\n",
      "6    3.0\n",
      "7    3.0\n",
      "8    3.0\n",
      "dtype: float64\n"
     ]
    }
   ],
   "source": [
    "# 2.3\n",
    "\n",
    "print(s.str.len())"
   ]
  },
  {
   "cell_type": "markdown",
   "id": "966655e8",
   "metadata": {},
   "source": [
    "# Question 3:\n",
    "From the raw data below create a pandas Series\n",
    "\n",
    "' Arya', 'John ', ' jack ', 'Sam'\n",
    "\n",
    "1) Print all elements after stripping spaces from the left and right\n",
    "2) Print all the elements after removing spaces from the left only\n",
    "3) Print all the elements after removing spaces from the right only"
   ]
  },
  {
   "cell_type": "code",
   "execution_count": 11,
   "id": "f71dc231",
   "metadata": {},
   "outputs": [
    {
     "name": "stdout",
     "output_type": "stream",
     "text": [
      "Index([' Arya', 'John ', ' jack ', 'Sam'], dtype='object')\n",
      "Index(['Arya', 'John', 'jack', 'Sam'], dtype='object')\n"
     ]
    }
   ],
   "source": [
    "# 3.1\n",
    "s = pd.Index([' Arya', 'John ', ' jack ', 'Sam'])\n",
    "\n",
    "print(s)\n",
    "print(s.str.strip())"
   ]
  },
  {
   "cell_type": "code",
   "execution_count": 12,
   "id": "718ec53b",
   "metadata": {},
   "outputs": [
    {
     "name": "stdout",
     "output_type": "stream",
     "text": [
      "Index(['Arya', 'John ', 'jack ', 'Sam'], dtype='object')\n"
     ]
    }
   ],
   "source": [
    "# 3.2\n",
    "\n",
    "print(s.str.lstrip())"
   ]
  },
  {
   "cell_type": "code",
   "execution_count": 13,
   "id": "10b0d8ce",
   "metadata": {},
   "outputs": [
    {
     "name": "stdout",
     "output_type": "stream",
     "text": [
      "Index([' Arya', 'John', ' jack', 'Sam'], dtype='object')\n"
     ]
    }
   ],
   "source": [
    "# 3.3\n",
    "\n",
    "print(s.str.rstrip())"
   ]
  }
 ],
 "metadata": {
  "kernelspec": {
   "display_name": "Python 3 (ipykernel)",
   "language": "python",
   "name": "python3"
  },
  "language_info": {
   "codemirror_mode": {
    "name": "ipython",
    "version": 3
   },
   "file_extension": ".py",
   "mimetype": "text/x-python",
   "name": "python",
   "nbconvert_exporter": "python",
   "pygments_lexer": "ipython3",
   "version": "3.11.5"
  }
 },
 "nbformat": 4,
 "nbformat_minor": 5
}
