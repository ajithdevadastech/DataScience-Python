{
 "cells": [
  {
   "cell_type": "markdown",
   "id": "21c75cfc",
   "metadata": {},
   "source": [
    "# Step 1: Iterate over a list¶"
   ]
  },
  {
   "cell_type": "code",
   "execution_count": 1,
   "id": "b63ce4b0",
   "metadata": {},
   "outputs": [
    {
     "name": "stdout",
     "output_type": "stream",
     "text": [
      "List Iteration\n",
      "Tit\n",
      "for\n",
      "Tat\n"
     ]
    }
   ],
   "source": [
    "print(\"List Iteration\") \n",
    "l = [\"Tit\", \"for\", \"Tat\"] \n",
    "for i in l: \n",
    "    print(i) "
   ]
  },
  {
   "cell_type": "markdown",
   "id": "a2ddf349",
   "metadata": {},
   "source": [
    "# Step 2: Iterate over a tuple"
   ]
  },
  {
   "cell_type": "code",
   "execution_count": 2,
   "id": "f17ee065",
   "metadata": {},
   "outputs": [
    {
     "name": "stdout",
     "output_type": "stream",
     "text": [
      "\n",
      "Tuple Iteration\n",
      "Tit\n",
      "for\n",
      "Tat\n"
     ]
    }
   ],
   "source": [
    "# Iterating over a tuple (immutable) \n",
    "print(\"\\nTuple Iteration\") \n",
    "t = (\"Tit\", \"for\", \"Tat\") \n",
    "for i in t: \n",
    "    print(i) "
   ]
  },
  {
   "cell_type": "markdown",
   "id": "75ebc134",
   "metadata": {},
   "source": [
    "# Step 3: Iterate over a string"
   ]
  },
  {
   "cell_type": "code",
   "execution_count": 3,
   "id": "1ca84af6",
   "metadata": {},
   "outputs": [
    {
     "name": "stdout",
     "output_type": "stream",
     "text": [
      "Enter a string: malayalam\n",
      "The string is a palindrome.\n"
     ]
    }
   ],
   "source": [
    "#Iterating over a string\n",
    "# Taking a string from user\n",
    "s = input(\"Enter a string: \")\n",
    "# checking for palindrome using the for loop\n",
    "for i in range(0,len(s)//2):\n",
    "    if(s[i] != s[len(s)-i-1]):\n",
    "        found = False\n",
    "        break\n",
    "else:\n",
    "    found = True\n",
    "# Checking whether the given string and reversed string is same\n",
    "if found:\n",
    "    print(\"The string is a palindrome.\")\n",
    "else:\n",
    "    print(\"The string is not a palindrome.\")"
   ]
  },
  {
   "cell_type": "markdown",
   "id": "7476bfc9",
   "metadata": {},
   "source": [
    "# Step 4: Iterate over a dictionary"
   ]
  },
  {
   "cell_type": "code",
   "execution_count": 4,
   "id": "73aaa3e6",
   "metadata": {},
   "outputs": [
    {
     "name": "stdout",
     "output_type": "stream",
     "text": [
      "List Of given states and their capitals:\n",
      "\n",
      "Goa : Panjim\n",
      "Maharashtra : Mumbai\n",
      "Karnataka : Bengaluru\n",
      "Tamil Nadu : Chennai\n"
     ]
    }
   ],
   "source": [
    "# Iterating over dictionary \n",
    "statesAndCapitals = { \n",
    "                     'Goa' : 'Panjim','Maharashtra' : 'Mumbai',\n",
    "    'Karnataka' : 'Bengaluru','Tamil Nadu' : 'Chennai'\n",
    "                    } \n",
    "                      \n",
    "print('List Of given states and their capitals:\\n') \n",
    "  \n",
    "# Iterating over values \n",
    "for state, capital in statesAndCapitals.items(): \n",
    "    print(state, \":\", capital) "
   ]
  },
  {
   "cell_type": "markdown",
   "id": "6a9e393d",
   "metadata": {},
   "source": [
    "# Implementation of Fibonacci series using for loop"
   ]
  },
  {
   "cell_type": "markdown",
   "id": "b86986f0",
   "metadata": {},
   "source": [
    "# Step 1: Take input from user"
   ]
  },
  {
   "cell_type": "code",
   "execution_count": 5,
   "id": "115c57b7",
   "metadata": {},
   "outputs": [
    {
     "name": "stdout",
     "output_type": "stream",
     "text": [
      "\n",
      "Please Enter the Range Number for which You Want to Print the Fibonacci Series : 18\n"
     ]
    }
   ],
   "source": [
    "# Fibonacci series will start at 0 and continue upto below number\n",
    "Number = int(input(\"\\nPlease Enter the Range Number for which You Want to Print the Fibonacci Series : \"))"
   ]
  },
  {
   "cell_type": "markdown",
   "id": "440906c0",
   "metadata": {},
   "source": [
    "# Step 2: Initialize first and second value from the inputs"
   ]
  },
  {
   "cell_type": "code",
   "execution_count": 7,
   "id": "46c76c4a",
   "metadata": {},
   "outputs": [],
   "source": [
    "First_Value = 0\n",
    "Second_Value = 1"
   ]
  },
  {
   "cell_type": "code",
   "execution_count": 8,
   "id": "c3c2211b",
   "metadata": {},
   "outputs": [
    {
     "name": "stdout",
     "output_type": "stream",
     "text": [
      "0\n",
      "1\n",
      "1\n",
      "2\n",
      "3\n",
      "5\n",
      "8\n",
      "13\n",
      "21\n",
      "34\n",
      "55\n",
      "89\n",
      "144\n",
      "233\n",
      "377\n",
      "610\n",
      "987\n",
      "1597\n"
     ]
    }
   ],
   "source": [
    "for Num in range(0, Number):\n",
    "           if(Num <= 1):\n",
    "                      Next = Num\n",
    "           else:\n",
    "                      Next = First_Value + Second_Value\n",
    "                      First_Value = Second_Value\n",
    "                      Second_Value = Next\n",
    "           print(Next)"
   ]
  }
 ],
 "metadata": {
  "kernelspec": {
   "display_name": "Python 3 (ipykernel)",
   "language": "python",
   "name": "python3"
  },
  "language_info": {
   "codemirror_mode": {
    "name": "ipython",
    "version": 3
   },
   "file_extension": ".py",
   "mimetype": "text/x-python",
   "name": "python",
   "nbconvert_exporter": "python",
   "pygments_lexer": "ipython3",
   "version": "3.11.5"
  }
 },
 "nbformat": 4,
 "nbformat_minor": 5
}
