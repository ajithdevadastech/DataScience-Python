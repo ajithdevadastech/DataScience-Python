{
 "cells": [
  {
   "cell_type": "code",
   "execution_count": 1,
   "id": "f4b11c9f",
   "metadata": {},
   "outputs": [
    {
     "name": "stdout",
     "output_type": "stream",
     "text": [
      "10 20.1 (10+5j)\n",
      "<class 'int'> <class 'float'> <class 'complex'>\n"
     ]
    }
   ],
   "source": [
    "# Different types of numbers supported by python\n",
    "A=10 # Integer\n",
    "B=20.1 # float\n",
    "c=10+5j # complex\n",
    "print(A,B,c)\n",
    "print(type(A),type(B),type(c))"
   ]
  },
  {
   "cell_type": "code",
   "execution_count": 2,
   "id": "733790f2",
   "metadata": {},
   "outputs": [
    {
     "name": "stdout",
     "output_type": "stream",
     "text": [
      "Number of chickens:35\n",
      "Eggs per day:135\n"
     ]
    },
    {
     "ename": "TypeError",
     "evalue": "unsupported operand type(s) for /: 'str' and 'str'",
     "output_type": "error",
     "traceback": [
      "\u001b[1;31m---------------------------------------------------------------------------\u001b[0m",
      "\u001b[1;31mTypeError\u001b[0m                                 Traceback (most recent call last)",
      "Cell \u001b[1;32mIn[2], line 3\u001b[0m\n\u001b[0;32m      1\u001b[0m chickens\u001b[38;5;241m=\u001b[39m\u001b[38;5;28minput\u001b[39m(\u001b[38;5;124m'\u001b[39m\u001b[38;5;124mNumber of chickens:\u001b[39m\u001b[38;5;124m'\u001b[39m) \u001b[38;5;66;03m# By default it will take input in string \u001b[39;00m\n\u001b[0;32m      2\u001b[0m eggs\u001b[38;5;241m=\u001b[39m\u001b[38;5;28minput\u001b[39m(\u001b[38;5;124m'\u001b[39m\u001b[38;5;124mEggs per day:\u001b[39m\u001b[38;5;124m'\u001b[39m) \n\u001b[1;32m----> 3\u001b[0m \u001b[38;5;28mprint\u001b[39m(\u001b[38;5;124m'\u001b[39m\u001b[38;5;124mNumber of eggs each chicken will lay?\u001b[39m\u001b[38;5;124m'\u001b[39m,eggs\u001b[38;5;241m/\u001b[39mchickens)\n",
      "\u001b[1;31mTypeError\u001b[0m: unsupported operand type(s) for /: 'str' and 'str'"
     ]
    }
   ],
   "source": [
    "chickens=input('Number of chickens:') # By default it will take input in string \n",
    "eggs=input('Eggs per day:') \n",
    "print('Number of eggs each chicken will lay?',eggs/chickens) # Why? Type error. We cannot divide two strings.\n",
    "\n",
    "# Note: Consider the following example, On the farm, there are 25 chickens, and they collectively lay 120 eggs."
   ]
  },
  {
   "cell_type": "code",
   "execution_count": 3,
   "id": "109c1cce",
   "metadata": {},
   "outputs": [
    {
     "name": "stdout",
     "output_type": "stream",
     "text": [
      "Number of eggs each chicken will lay? 3.857142857142857\n"
     ]
    }
   ],
   "source": [
    "print('Number of eggs each chicken will lay?',int(eggs)/int(chickens)) "
   ]
  },
  {
   "cell_type": "code",
   "execution_count": 4,
   "id": "0db8e2b4",
   "metadata": {},
   "outputs": [
    {
     "name": "stdout",
     "output_type": "stream",
     "text": [
      "Number of eggs each chicken will lay? 3\n"
     ]
    }
   ],
   "source": [
    "each_chicken_egg=int(eggs)//int(chickens)\n",
    "print('Number of eggs each chicken will lay?',each_chicken_egg)"
   ]
  },
  {
   "cell_type": "code",
   "execution_count": 5,
   "id": "d2b1fc9f",
   "metadata": {},
   "outputs": [
    {
     "name": "stdout",
     "output_type": "stream",
     "text": [
      "Total eggs all the chickens should lay: 105\n",
      "Total eggs laid originally: 135\n",
      "number of chickens laying more eggs: 30\n"
     ]
    }
   ],
   "source": [
    "# How many eggs all the chickens should lay? tuff...\n",
    "eggs_presumed=int(each_chicken_egg)*int(chickens)\n",
    "print('Total eggs all the chickens should lay:',eggs_presumed)\n",
    "print('Total eggs laid originally:',eggs)\n",
    "more_eggs=int(eggs)-eggs_presumed\n",
    "print('number of chickens laying more eggs:',more_eggs)"
   ]
  },
  {
   "cell_type": "code",
   "execution_count": 6,
   "id": "ee26539e",
   "metadata": {},
   "outputs": [
    {
     "name": "stdout",
     "output_type": "stream",
     "text": [
      "Means 30 chickens are laying more eggs than average eggs\n"
     ]
    }
   ],
   "source": [
    "print('Means %i chickens are laying more eggs than average eggs'%(more_eggs)) # This is basic formatting in python"
   ]
  },
  {
   "cell_type": "code",
   "execution_count": 7,
   "id": "99404ea2",
   "metadata": {},
   "outputs": [
    {
     "name": "stdout",
     "output_type": "stream",
     "text": [
      "Enter length and breadth of the farm (separated by comma):40,50\n",
      "Area of field: 2000.0\n"
     ]
    }
   ],
   "source": [
    "# %i represents an integer value\n",
    "length, breadth=input('Enter length and breadth of the farm (separated by comma):').split(',')\n",
    "area=float(length)*float(breadth)\n",
    "print('Area of field:',area)"
   ]
  },
  {
   "cell_type": "code",
   "execution_count": 8,
   "id": "402d018b",
   "metadata": {},
   "outputs": [
    {
     "name": "stdout",
     "output_type": "stream",
     "text": [
      "Usable area: 300 meter square\n"
     ]
    }
   ],
   "source": [
    "# Some of the land is used as grazing land. So, the usable area should be-\n",
    "grazing_land = 200 # in square meters\n",
    "total_area = 500\n",
    "area = total_area - grazing_land\n",
    "print('Usable area: %i meter square'%area)"
   ]
  },
  {
   "cell_type": "code",
   "execution_count": 9,
   "id": "43513ca6",
   "metadata": {},
   "outputs": [
    {
     "name": "stdout",
     "output_type": "stream",
     "text": [
      "Area for each section: 42.857142857142854\n"
     ]
    }
   ],
   "source": [
    "# Rest of the area is evenly divided into 7 parts\n",
    "print('Area for each section:',area/7)"
   ]
  },
  {
   "cell_type": "code",
   "execution_count": 10,
   "id": "c0db424e",
   "metadata": {},
   "outputs": [
    {
     "name": "stdout",
     "output_type": "stream",
     "text": [
      "Area for each section 42.857\n"
     ]
    }
   ],
   "source": [
    "# Formatting can also be done using format() function\n",
    "print('Area for each section {:.3f}'.format(area/7))"
   ]
  },
  {
   "cell_type": "markdown",
   "id": "09c02714",
   "metadata": {},
   "source": [
    "# Complex Numbers"
   ]
  },
  {
   "cell_type": "code",
   "execution_count": 11,
   "id": "bf5d3bf5",
   "metadata": {},
   "outputs": [],
   "source": [
    "A=10+3j\n",
    "B=5-10j"
   ]
  },
  {
   "cell_type": "code",
   "execution_count": 12,
   "id": "903e4d56",
   "metadata": {},
   "outputs": [
    {
     "name": "stdout",
     "output_type": "stream",
     "text": [
      "Addition of two complex numbers: (15-7j)\n",
      "Mulitplication of a complex number and an integer: (20+6j)\n",
      "Real part of a complex number: 10.0\n",
      "Conjugate of complex number: (10-3j)\n",
      "Imaginary part of a complex number: 3.0\n"
     ]
    }
   ],
   "source": [
    "# Operations on complex numbers\n",
    "print('Addition of two complex numbers:',A+B)\n",
    "print('Mulitplication of a complex number and an integer:',A*2)\n",
    "print('Real part of a complex number:',A.real)\n",
    "print('Conjugate of complex number:',A.conjugate())\n",
    "print('Imaginary part of a complex number:',A.imag)"
   ]
  },
  {
   "cell_type": "code",
   "execution_count": 13,
   "id": "843d91e9",
   "metadata": {},
   "outputs": [
    {
     "name": "stdout",
     "output_type": "stream",
     "text": [
      "True\n"
     ]
    }
   ],
   "source": [
    "# comparison of real part to an integer\n",
    "print(A.real == 10)"
   ]
  },
  {
   "cell_type": "code",
   "execution_count": 14,
   "id": "cdfa845f",
   "metadata": {},
   "outputs": [
    {
     "data": {
      "text/plain": [
       "(20, 1)"
      ]
     },
     "execution_count": 14,
     "metadata": {},
     "output_type": "execute_result"
    }
   ],
   "source": [
    "# left shift and right shift\n",
    "# binary of 5= 00000101 so left shifting by two places\n",
    "# 101(5) << 2 => 10100 which is 20 in decimal\n",
    "\n",
    "5<<2,5>>2"
   ]
  },
  {
   "cell_type": "code",
   "execution_count": 15,
   "id": "2f6e1930",
   "metadata": {},
   "outputs": [
    {
     "name": "stdout",
     "output_type": "stream",
     "text": [
      "Enter a number:45\n",
      "octal 0o55:\n",
      "binary 0b101101:\n",
      "hexadecimal 0x2d:\n"
     ]
    }
   ],
   "source": [
    "# To represent a number in various number systems\n",
    "test=int(input('Enter a number:')) # enter any input in integer\n",
    "print('octal %s:'%oct(test))\n",
    "print('binary %s:'%bin(test))\n",
    "print('hexadecimal %s:'%hex(test))\n",
    "# Why %s? These functions return specific value in string for representation"
   ]
  },
  {
   "cell_type": "code",
   "execution_count": 16,
   "id": "930acdca",
   "metadata": {},
   "outputs": [
    {
     "name": "stdout",
     "output_type": "stream",
     "text": [
      "2 to 5th power: 32\n",
      "three times ten to the fifth power: 300000\n"
     ]
    }
   ],
   "source": [
    "# Exponents and powers\n",
    "print('2 to 5th power: %d'%2**5)\n",
    "print('three times ten to the fifth power: %d'%3e5) # Python supports E-notation(is lso queal to 3*pow(10,5))"
   ]
  },
  {
   "cell_type": "code",
   "execution_count": 17,
   "id": "1a6a1954",
   "metadata": {},
   "outputs": [
    {
     "name": "stdout",
     "output_type": "stream",
     "text": [
      "False\n"
     ]
    }
   ],
   "source": [
    "# While playing with numbers she noticed something unsual\n",
    "print(1.1+2.2==3.3)"
   ]
  },
  {
   "cell_type": "code",
   "execution_count": 18,
   "id": "63931f87",
   "metadata": {},
   "outputs": [
    {
     "name": "stdout",
     "output_type": "stream",
     "text": [
      "False\n"
     ]
    }
   ],
   "source": [
    "# How can that be possible?\n",
    "x=1.1+2.20\n",
    "y=3.3\n",
    "print(x==y)"
   ]
  },
  {
   "cell_type": "code",
   "execution_count": 19,
   "id": "f576be5b",
   "metadata": {},
   "outputs": [
    {
     "name": "stdout",
     "output_type": "stream",
     "text": [
      "3.3000000000000003\n",
      "3.3\n"
     ]
    }
   ],
   "source": [
    "#  It due to machine error. Machines cannot store decimals precisely\n",
    "print(x)\n",
    "print(y)"
   ]
  },
  {
   "cell_type": "code",
   "execution_count": 20,
   "id": "1622ddc2",
   "metadata": {},
   "outputs": [
    {
     "name": "stdout",
     "output_type": "stream",
     "text": [
      "Enter the temperature in fahrenheit: 94\n",
      "Celcuis: 34.4\n"
     ]
    }
   ],
   "source": [
    "F=float(input('Enter the temperature in fahrenheit: '))\n",
    "C=5/9*(F-32) \n",
    "print('Celcuis: %0.1f'%C)"
   ]
  }
 ],
 "metadata": {
  "kernelspec": {
   "display_name": "Python 3 (ipykernel)",
   "language": "python",
   "name": "python3"
  },
  "language_info": {
   "codemirror_mode": {
    "name": "ipython",
    "version": 3
   },
   "file_extension": ".py",
   "mimetype": "text/x-python",
   "name": "python",
   "nbconvert_exporter": "python",
   "pygments_lexer": "ipython3",
   "version": "3.11.5"
  }
 },
 "nbformat": 4,
 "nbformat_minor": 5
}
