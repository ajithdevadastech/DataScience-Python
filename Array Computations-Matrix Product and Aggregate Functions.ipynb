{
 "cells": [
  {
   "cell_type": "markdown",
   "id": "08561b55",
   "metadata": {},
   "source": [
    "# Question 1: Perform Hill Cipher using matrix product\n",
    "Description about Hill Cipher\n",
    "''' Hill Cipher is a polygraphic substitution cipher based on linear algebra. Here the plain text is converted into encrypted form. Each letter of plain text is represented by a number modulo 26. Often the simple scheme A=0, B=1,....Z=25 is used To encrypt a message, each block of n letters is multiplied by an invertible n × n matrix, against modulus 26 The matrix used for encryption is the cipher key, and it should be chosen randomly Lets us take plain text = edureka and cipher key = [11 9 8 17] Plain text is converted into 2×1 matrix format i.e. [e d] [u r] [e k] Again plain text is converted into numbers i.e. [4 3] [20 11] [4 10] So, encryption of hill cipher = (each column of plain text)*(key)*mod 26 '''"
   ]
  },
  {
   "cell_type": "markdown",
   "id": "dec7b63a",
   "metadata": {},
   "source": [
    "# Step 1: Import the libraries"
   ]
  },
  {
   "cell_type": "code",
   "execution_count": 1,
   "id": "d651c249",
   "metadata": {},
   "outputs": [],
   "source": [
    "import numpy as np"
   ]
  },
  {
   "cell_type": "markdown",
   "id": "09cc2f6e",
   "metadata": {},
   "source": [
    "# Step 2: Create numpy array a as first column of plain text and array b as key"
   ]
  },
  {
   "cell_type": "code",
   "execution_count": 2,
   "id": "05c916da",
   "metadata": {},
   "outputs": [],
   "source": [
    "a = np.array([4,3])\n",
    "b= np.array([[11,9],[8,17]])"
   ]
  },
  {
   "cell_type": "markdown",
   "id": "095713d5",
   "metadata": {},
   "source": [
    "# Step 3: Perform matrix product between array a and b"
   ]
  },
  {
   "cell_type": "code",
   "execution_count": 3,
   "id": "5f57c7b5",
   "metadata": {},
   "outputs": [
    {
     "name": "stdout",
     "output_type": "stream",
     "text": [
      "[68 87]\n"
     ]
    }
   ],
   "source": [
    "c=np.dot(a,b)\n",
    "print (c)"
   ]
  },
  {
   "cell_type": "markdown",
   "id": "33f3772a",
   "metadata": {},
   "source": [
    "# Step 4: Perform encryption of plain text using mod function"
   ]
  },
  {
   "cell_type": "code",
   "execution_count": 4,
   "id": "166d52d3",
   "metadata": {},
   "outputs": [
    {
     "name": "stdout",
     "output_type": "stream",
     "text": [
      "h= [16  9]\n"
     ]
    }
   ],
   "source": [
    "h = np.mod(c,26)\n",
    "print(\"h=\",h)"
   ]
  },
  {
   "cell_type": "markdown",
   "id": "8930494b",
   "metadata": {},
   "source": [
    "# Step 5: Create numpy array d of second column of plain text and array b as key"
   ]
  },
  {
   "cell_type": "code",
   "execution_count": 5,
   "id": "fedec467",
   "metadata": {},
   "outputs": [],
   "source": [
    "d = np.array([20,11])"
   ]
  },
  {
   "cell_type": "markdown",
   "id": "1573b88c",
   "metadata": {},
   "source": [
    "# Step 6: Perform matrix product between array d and b"
   ]
  },
  {
   "cell_type": "code",
   "execution_count": 7,
   "id": "b6edd2ff",
   "metadata": {},
   "outputs": [
    {
     "name": "stdout",
     "output_type": "stream",
     "text": [
      "[308 367]\n"
     ]
    }
   ],
   "source": [
    "f = np.dot(d,b)\n",
    "print(f)"
   ]
  },
  {
   "cell_type": "markdown",
   "id": "ffad5dd5",
   "metadata": {},
   "source": [
    "# Step 7: Perform encyption of plain text using mod function"
   ]
  },
  {
   "cell_type": "code",
   "execution_count": 9,
   "id": "d2c09674",
   "metadata": {},
   "outputs": [
    {
     "name": "stdout",
     "output_type": "stream",
     "text": [
      "h1= [22  3]\n"
     ]
    }
   ],
   "source": [
    "h1=np.mod(f,26)\n",
    "print(\"h1=\",h1)"
   ]
  },
  {
   "cell_type": "markdown",
   "id": "6af98f8e",
   "metadata": {},
   "source": [
    "# Step 8: Create a numpy array g of last column of plain text and array b as key"
   ]
  },
  {
   "cell_type": "code",
   "execution_count": 10,
   "id": "a0d68789",
   "metadata": {},
   "outputs": [],
   "source": [
    "g = np.array([4,10])"
   ]
  },
  {
   "cell_type": "markdown",
   "id": "34d238a3",
   "metadata": {},
   "source": [
    "# Step 9: Perform matrix product between array g and b"
   ]
  },
  {
   "cell_type": "code",
   "execution_count": 12,
   "id": "9a8cdb2b",
   "metadata": {},
   "outputs": [
    {
     "name": "stdout",
     "output_type": "stream",
     "text": [
      "[124 206]\n"
     ]
    }
   ],
   "source": [
    "j =np.dot(g,b)\n",
    "print(j)"
   ]
  },
  {
   "cell_type": "markdown",
   "id": "56234973",
   "metadata": {},
   "source": [
    "# Step 10: Perform encyption of plain text using mod function"
   ]
  },
  {
   "cell_type": "code",
   "execution_count": 13,
   "id": "d07dc4e0",
   "metadata": {},
   "outputs": [
    {
     "name": "stdout",
     "output_type": "stream",
     "text": [
      "h2 [20 24]\n"
     ]
    }
   ],
   "source": [
    "h2=np.mod(j,26) \n",
    "print(\"h2\",h2)"
   ]
  },
  {
   "cell_type": "markdown",
   "id": "d483e866",
   "metadata": {},
   "source": [
    "# Perform aggregate function on marks.csv file"
   ]
  },
  {
   "cell_type": "code",
   "execution_count": 14,
   "id": "633bc27c",
   "metadata": {},
   "outputs": [],
   "source": [
    "import numpy as np"
   ]
  },
  {
   "cell_type": "markdown",
   "id": "b8438fbb",
   "metadata": {},
   "source": [
    "# Step 2: Load marks.csv file"
   ]
  },
  {
   "cell_type": "code",
   "execution_count": 15,
   "id": "7434c6d3",
   "metadata": {},
   "outputs": [],
   "source": [
    "data = np.loadtxt('C:\\\\Users\\\\adevdas\\\\Downloads\\\\2048_m5_demo1_v1_awp_wugdg0m\\\\2048_m5_demo1_v1.1\\\\marks.csv',delimiter=',',usecols=(5),skiprows=1)"
   ]
  },
  {
   "cell_type": "code",
   "execution_count": 16,
   "id": "4829452e",
   "metadata": {},
   "outputs": [
    {
     "name": "stdout",
     "output_type": "stream",
     "text": [
      "Data: [420. 280. 350. 269. 317. 470. 333. 365. 305. 350. 460. 474. 409. 377.\n",
      " 415. 382. 298. 462. 370. 313. 464. 302. 252. 259. 308. 392. 424. 403.\n",
      " 370. 328. 398. 434. 291. 472. 263. 439. 464. 449. 401. 364. 296. 292.\n",
      " 438. 357. 331. 317. 429. 407. 321. 274. 447. 274. 437. 411. 257. 310.\n",
      " 396. 270. 311. 459. 378. 316. 283. 266. 381. 409. 313. 306. 448. 348.\n",
      " 292. 400. 352. 441. 428. 309. 441. 439. 264. 281. 302. 432. 423. 336.\n",
      " 383. 321. 469. 270. 341. 281. 403. 333. 323. 348. 345. 397. 449. 261.\n",
      " 456. 370. 322. 379. 446. 404. 301. 254. 351. 444. 264. 286. 463. 273.\n",
      " 316. 324. 465. 398. 324. 340. 414. 346. 408. 332. 394. 474. 398. 262.\n",
      " 410. 391. 444. 461.]\n"
     ]
    }
   ],
   "source": [
    "print(\"Data:\", data)"
   ]
  },
  {
   "cell_type": "markdown",
   "id": "ddc0a152",
   "metadata": {},
   "source": [
    "# Step 4: Calculate different aggregate function on marks.csv file"
   ]
  },
  {
   "cell_type": "code",
   "execution_count": 17,
   "id": "54fbd148",
   "metadata": {},
   "outputs": [
    {
     "name": "stdout",
     "output_type": "stream",
     "text": [
      "Sum: 47356.0\n"
     ]
    }
   ],
   "source": [
    "#Calculating sum of the given data\n",
    "print(\"Sum:\",data.sum())"
   ]
  },
  {
   "cell_type": "code",
   "execution_count": 18,
   "id": "c0e53417",
   "metadata": {},
   "outputs": [
    {
     "name": "stdout",
     "output_type": "stream",
     "text": [
      "Minimum: 252.0\n"
     ]
    }
   ],
   "source": [
    "#Calculating minimum from the given data\n",
    "print(\"Minimum:\",data.min())"
   ]
  },
  {
   "cell_type": "code",
   "execution_count": 19,
   "id": "34348237",
   "metadata": {},
   "outputs": [
    {
     "name": "stdout",
     "output_type": "stream",
     "text": [
      "Maximum: 474.0\n"
     ]
    }
   ],
   "source": [
    "#Calculating maximum from the given data\n",
    "print(\"Maximum:\",data.max())"
   ]
  },
  {
   "cell_type": "code",
   "execution_count": 20,
   "id": "9a2f1f8e",
   "metadata": {},
   "outputs": [
    {
     "name": "stdout",
     "output_type": "stream",
     "text": [
      "Mean: 364.2769230769231\n"
     ]
    }
   ],
   "source": [
    "#Calculating mean of the given data\n",
    "print(\"Mean:\",data.mean())"
   ]
  },
  {
   "cell_type": "code",
   "execution_count": 21,
   "id": "c58f6617",
   "metadata": {},
   "outputs": [
    {
     "name": "stdout",
     "output_type": "stream",
     "text": [
      "Standard Deviation: 66.17947803971762\n"
     ]
    }
   ],
   "source": [
    "#Calculating standard deviation of  the given data\n",
    "print(\"Standard Deviation:\",data.std())"
   ]
  }
 ],
 "metadata": {
  "kernelspec": {
   "display_name": "Python 3 (ipykernel)",
   "language": "python",
   "name": "python3"
  },
  "language_info": {
   "codemirror_mode": {
    "name": "ipython",
    "version": 3
   },
   "file_extension": ".py",
   "mimetype": "text/x-python",
   "name": "python",
   "nbconvert_exporter": "python",
   "pygments_lexer": "ipython3",
   "version": "3.11.5"
  }
 },
 "nbformat": 4,
 "nbformat_minor": 5
}
