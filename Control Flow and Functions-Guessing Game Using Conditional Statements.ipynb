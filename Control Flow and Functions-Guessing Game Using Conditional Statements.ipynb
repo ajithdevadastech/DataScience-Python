{
 "cells": [
  {
   "cell_type": "markdown",
   "id": "aa4a627a",
   "metadata": {},
   "source": [
    "# Step 1: Import the required libraries"
   ]
  },
  {
   "cell_type": "code",
   "execution_count": 1,
   "id": "ebb15b1c",
   "metadata": {},
   "outputs": [],
   "source": [
    "import random"
   ]
  },
  {
   "cell_type": "markdown",
   "id": "caa2eeb2",
   "metadata": {},
   "source": [
    "# Step 2: Initialize the variables"
   ]
  },
  {
   "cell_type": "code",
   "execution_count": 2,
   "id": "7dd0dc8a",
   "metadata": {},
   "outputs": [],
   "source": [
    "number = random.randint(1,9)\n",
    "guess = 0\n",
    "count = 0"
   ]
  },
  {
   "cell_type": "markdown",
   "id": "4eca1155",
   "metadata": {},
   "source": [
    "# Step 3: Implement the logic of the guessing game in which user is going to guess the number between 1 to 9 and system will tell them whether they have guessed too low, too high, or exactly right."
   ]
  },
  {
   "cell_type": "code",
   "execution_count": 3,
   "id": "ce88d0bb",
   "metadata": {},
   "outputs": [
    {
     "name": "stdout",
     "output_type": "stream",
     "text": [
      "Welcome To The Guessing Game\n",
      "Guess the number between 1 to 9:8\n",
      "Too high!\n",
      "Guess the number between 1 to 9:4\n",
      "Too low!\n",
      "Guess the number between 1 to 9:6\n",
      "You got it!\n",
      "And it only took you 3 tries!\n"
     ]
    }
   ],
   "source": [
    "print(\"Welcome To The Guessing Game\")\n",
    "while count!=6:\n",
    "    guess = input(\"Guess the number between 1 to 9:\")    \n",
    "    guess = int(guess)\n",
    "    count += 1    \n",
    "    if guess < number:\n",
    "            print(\"Too low!\")\n",
    "    elif guess > number:\n",
    "            print(\"Too high!\")\n",
    "    else:\n",
    "            print(\"You got it!\")\n",
    "            print(\"And it only took you\",count,\"tries!\")\n",
    "            break"
   ]
  },
  {
   "cell_type": "code",
   "execution_count": null,
   "id": "f732f696",
   "metadata": {},
   "outputs": [],
   "source": []
  }
 ],
 "metadata": {
  "kernelspec": {
   "display_name": "Python 3 (ipykernel)",
   "language": "python",
   "name": "python3"
  },
  "language_info": {
   "codemirror_mode": {
    "name": "ipython",
    "version": 3
   },
   "file_extension": ".py",
   "mimetype": "text/x-python",
   "name": "python",
   "nbconvert_exporter": "python",
   "pygments_lexer": "ipython3",
   "version": "3.11.5"
  }
 },
 "nbformat": 4,
 "nbformat_minor": 5
}
