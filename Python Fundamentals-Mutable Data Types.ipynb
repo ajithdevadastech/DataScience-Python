{
 "cells": [
  {
   "cell_type": "code",
   "execution_count": 1,
   "id": "b67d509b",
   "metadata": {},
   "outputs": [
    {
     "name": "stdout",
     "output_type": "stream",
     "text": [
      "List:  ['zero', 1, 2, 3, 4, 5, 'six']\n"
     ]
    }
   ],
   "source": [
    "# Initializing list\n",
    "lst=[\"zero\",1,2,3,4,5,'six']\n",
    "print('List: ',lst)"
   ]
  },
  {
   "cell_type": "markdown",
   "id": "ca060540",
   "metadata": {},
   "source": [
    "# Lists\n"
   ]
  },
  {
   "cell_type": "code",
   "execution_count": 2,
   "id": "13037d67",
   "metadata": {},
   "outputs": [],
   "source": [
    "# Nested list\n",
    "my_list = [\"cat\", [1,2,3], ['a','b','c']]"
   ]
  },
  {
   "cell_type": "code",
   "execution_count": 3,
   "id": "2ce46848",
   "metadata": {},
   "outputs": [
    {
     "name": "stdout",
     "output_type": "stream",
     "text": [
      "First item of list: cat\n",
      "Second item of list: [1, 2, 3]\n",
      "Third item of list: ['a', 'b', 'c']\n",
      "Third item of list and second item of list inside it: b\n"
     ]
    }
   ],
   "source": [
    "#Indexing in list\n",
    "print('First item of list:',my_list[0])\n",
    "print('Second item of list:',my_list[1])\n",
    "print('Third item of list:',my_list[2])\n",
    "print('Third item of list and second item of list inside it:',my_list[2][1])"
   ]
  },
  {
   "cell_type": "code",
   "execution_count": 4,
   "id": "9dc021f3",
   "metadata": {},
   "outputs": [
    {
     "name": "stdout",
     "output_type": "stream",
     "text": [
      "Length of a list: 3\n"
     ]
    }
   ],
   "source": [
    "# length of list\n",
    "length_of_list=len(my_list) # len() is a built-in function can be used with any iterable\n",
    "print('Length of a list:',length_of_list)"
   ]
  },
  {
   "cell_type": "code",
   "execution_count": 5,
   "id": "29cc7ccc",
   "metadata": {},
   "outputs": [
    {
     "name": "stdout",
     "output_type": "stream",
     "text": [
      "Element at index -3: cat\n"
     ]
    }
   ],
   "source": [
    "# Proper indexing\n",
    "print('Element at index -%d:'%(length_of_list),my_list[-length_of_list]) # will print first element of list"
   ]
  },
  {
   "cell_type": "code",
   "execution_count": 6,
   "id": "fc338050",
   "metadata": {},
   "outputs": [
    {
     "ename": "IndexError",
     "evalue": "list index out of range",
     "output_type": "error",
     "traceback": [
      "\u001b[1;31m---------------------------------------------------------------------------\u001b[0m",
      "\u001b[1;31mIndexError\u001b[0m                                Traceback (most recent call last)",
      "Cell \u001b[1;32mIn[6], line 2\u001b[0m\n\u001b[0;32m      1\u001b[0m \u001b[38;5;66;03m# It will give error\u001b[39;00m\n\u001b[1;32m----> 2\u001b[0m \u001b[38;5;28mprint\u001b[39m(\u001b[38;5;124m'\u001b[39m\u001b[38;5;124mElement at index \u001b[39m\u001b[38;5;132;01m%d\u001b[39;00m\u001b[38;5;124m:\u001b[39m\u001b[38;5;124m'\u001b[39m\u001b[38;5;241m%\u001b[39m(length_of_list),my_list[length_of_list])\n",
      "\u001b[1;31mIndexError\u001b[0m: list index out of range"
     ]
    }
   ],
   "source": [
    "# It will give error\n",
    "print('Element at index %d:'%(length_of_list),my_list[length_of_list]) # It will give 'Index out range' error, because it is not a valid index"
   ]
  },
  {
   "cell_type": "code",
   "execution_count": 7,
   "id": "3f235c1c",
   "metadata": {},
   "outputs": [
    {
     "name": "stdout",
     "output_type": "stream",
     "text": [
      "Sales data(seperated by comma): 3,4,5,6,7\n",
      "Sales of the week: <map object at 0x0000020F18131F60>\n"
     ]
    }
   ],
   "source": [
    "sales=map(int,input('Sales data(seperated by comma): ').split(',')) # Enter data only in integer and add comma to seprate them, For exmple. we have entered 123 at second index\n",
    "print('Sales of the week:',sales)"
   ]
  },
  {
   "cell_type": "code",
   "execution_count": 8,
   "id": "3b665a47",
   "metadata": {},
   "outputs": [
    {
     "name": "stdout",
     "output_type": "stream",
     "text": [
      "Sales of the week: [3, 4, 5, 6, 7]\n"
     ]
    }
   ],
   "source": [
    "# Map return an iterable, so wilson will have to convert it to a list\n",
    "sales=list(sales)\n",
    "print('Sales of the week:',sales)"
   ]
  },
  {
   "cell_type": "code",
   "execution_count": 9,
   "id": "64a0c749",
   "metadata": {},
   "outputs": [
    {
     "name": "stdout",
     "output_type": "stream",
     "text": [
      "Sales of first 5 days: [3, 4, 5, 6, 7]\n",
      "Sales after correction: [3, 4, 9, 6, 7]\n"
     ]
    }
   ],
   "source": [
    "# To just print the sales of first 5 days\n",
    "print('Sales of first 5 days:',sales[:5])\n",
    "\n",
    "# Apparently wilson made a mistake in entering data\n",
    "\n",
    "index=sales.index(5)\n",
    "sales.remove(5)\n",
    "sales.insert(index,9) # entering new value at a index where '123' was located\n",
    "print('Sales after correction: {}'.format(sales))"
   ]
  },
  {
   "cell_type": "code",
   "execution_count": 10,
   "id": "0d67c467",
   "metadata": {},
   "outputs": [
    {
     "name": "stdout",
     "output_type": "stream",
     "text": [
      "Sorted sales in ascending order: [3, 4, 6, 7, 9]\n",
      "Sorted sales in descending order: [9, 7, 6, 4, 3]\n"
     ]
    }
   ],
   "source": [
    "sales.sort()\n",
    "print('Sorted sales in ascending order:',sales)\n",
    "# To print in reverse order, :: means nothing for first argument and second argument. \n",
    "# :: works as-> [start:stop(exclusive):step]\n",
    "# Third parameter is required number of steps to take\n",
    "print('Sorted sales in descending order:',sales[::-1])"
   ]
  },
  {
   "cell_type": "code",
   "execution_count": 11,
   "id": "a6cbf69c",
   "metadata": {},
   "outputs": [
    {
     "name": "stdout",
     "output_type": "stream",
     "text": [
      "Odd numbers: [1, 3, 5, 7, 9, 11, 13, 15, 17, 19]\n",
      "Even numbers: [2, 4, 6, 8, 10, 12, 14, 16, 18, 20]\n"
     ]
    }
   ],
   "source": [
    "numbers=[1,2,3,4,5,6,7,8,9,10,11,12,13,14,15,16,17,18,19,20]\n",
    "print('Odd numbers:',numbers[::2])  # To print odd only\n",
    "print('Even numbers:',numbers[1::2]) # To print even only"
   ]
  },
  {
   "cell_type": "code",
   "execution_count": 12,
   "id": "c5e55a96",
   "metadata": {},
   "outputs": [
    {
     "name": "stdout",
     "output_type": "stream",
     "text": [
      "Sales in last two weeks: [3, 4, 6, 7, 9, 651, 752, 673, 85, 567, 750]\n",
      "Last day sales:999\n",
      "Sales in last two weeks(appended last day sales): [3, 4, 6, 7, 9, 651, 752, 673, 85, 567, 750, 999]\n"
     ]
    }
   ],
   "source": [
    "second_week=[651,752,673,85,567,750]\n",
    "sales.extend(second_week)\n",
    "print('Sales in last two weeks:',sales)\n",
    "\n",
    "# Well second_week does not have data for last day\n",
    "last_day=int(input('Last day sales:')) # Take value for last day\n",
    "sales.append(last_day)\n",
    "print('Sales in last two weeks(appended last day sales):',sales)"
   ]
  },
  {
   "cell_type": "code",
   "execution_count": 13,
   "id": "269c0b7b",
   "metadata": {},
   "outputs": [
    {
     "name": "stdout",
     "output_type": "stream",
     "text": [
      "Total sales: 4506\n",
      "Maximum Sales: 999\n",
      "Minimum Sales: 3\n"
     ]
    }
   ],
   "source": [
    "# Total sales\n",
    "print('Total sales:',sum(sales))\n",
    "\n",
    "# Maximum Sales\n",
    "print('Maximum Sales:',max(sales))\n",
    "\n",
    "# Minimum Sales\n",
    "print('Minimum Sales:',min(sales))"
   ]
  },
  {
   "cell_type": "code",
   "execution_count": 14,
   "id": "2d4f15ef",
   "metadata": {},
   "outputs": [
    {
     "name": "stdout",
     "output_type": "stream",
     "text": [
      "Sales: 3|4|6|7|9|651|752|673|85|567|750|999\n"
     ]
    }
   ],
   "source": [
    "# printing list the elegant way\n",
    "print('Sales: ',end='') # 'end' argument appends a string after the last value, default is a newline.\n",
    "print(*sales,sep='|')   # 'sep' argument inserts a string between multiple values"
   ]
  },
  {
   "cell_type": "markdown",
   "id": "5a063087",
   "metadata": {},
   "source": [
    "# Sets"
   ]
  },
  {
   "cell_type": "code",
   "execution_count": 15,
   "id": "81620dfb",
   "metadata": {},
   "outputs": [
    {
     "name": "stdout",
     "output_type": "stream",
     "text": [
      "Set of vowels: {'o', 'e', 'i', 'a', 'u'}\n",
      "Set A: {0, 1, 2, 3, 4, 6, 8}\n",
      "Set B: {3, 4, 324, 51, 23, 25}\n"
     ]
    }
   ],
   "source": [
    "#Creating Sets\n",
    "vowels = {'a','a', 'e', 'i', 'o', 'u'}\n",
    "print('Set of vowels:',vowels)\n",
    "set_a={0,8,6,3,2,1,4,6,4,8,0,1}\n",
    "set_b={4,324,25,25,23,51,3}\n",
    "print('Set A:',set_a)\n",
    "print('Set B:',set_b)"
   ]
  },
  {
   "cell_type": "code",
   "execution_count": 16,
   "id": "b60e2687",
   "metadata": {},
   "outputs": [
    {
     "name": "stdout",
     "output_type": "stream",
     "text": [
      "Elements in A but not in B {0, 1, 2, 6, 8}\n",
      "Elements in B but not in A {25, 51, 324, 23}\n",
      "Union of sets A and B: {0, 1, 2, 3, 4, 324, 6, 8, 51, 23, 25}\n",
      "Intersection of A and B {3, 4}\n"
     ]
    }
   ],
   "source": [
    "# set difference\n",
    "print('Elements in A but not in B',set_a-set_b)\n",
    "print('Elements in B but not in A',set_b-set_a)\n",
    "\n",
    "# Union and Intersection\n",
    "print('Union of sets A and B:',set_a.union(set_b))\n",
    "print('Intersection of A and B',set_a.intersection(set_b))"
   ]
  },
  {
   "cell_type": "code",
   "execution_count": 17,
   "id": "61814f55",
   "metadata": {},
   "outputs": [
    {
     "name": "stdout",
     "output_type": "stream",
     "text": [
      "Set A after inserting 5 and updating from a list: {0, 1, 2, 3, 4, 5, 6, 8}\n"
     ]
    }
   ],
   "source": [
    "set_a.add(5)\n",
    "set_a.update([5,6,6])\n",
    "print('Set A after inserting 5 and updating from a list:',set_a)"
   ]
  },
  {
   "cell_type": "code",
   "execution_count": 18,
   "id": "3b083220",
   "metadata": {},
   "outputs": [
    {
     "name": "stdout",
     "output_type": "stream",
     "text": [
      "True\n",
      "False\n"
     ]
    }
   ],
   "source": [
    "# Membership operator\n",
    "print( 1 in set_a)\n",
    "print(1 in set_b)"
   ]
  },
  {
   "cell_type": "code",
   "execution_count": 19,
   "id": "bb41a36e",
   "metadata": {},
   "outputs": [
    {
     "name": "stdout",
     "output_type": "stream",
     "text": [
      "True\n",
      "False\n"
     ]
    }
   ],
   "source": [
    "# Inbuilt functions will work on any type of iterable\n",
    "print(all(set_a)<100) # returns true if every item in iterable is holds the condition\n",
    "print(any(set_a)>10) # returns true if any one item in iterable holds the condition"
   ]
  },
  {
   "cell_type": "markdown",
   "id": "ac50e710",
   "metadata": {},
   "source": [
    "# Dictionary"
   ]
  },
  {
   "cell_type": "code",
   "execution_count": 20,
   "id": "fff795ed",
   "metadata": {},
   "outputs": [
    {
     "name": "stdout",
     "output_type": "stream",
     "text": [
      "{'Name': 'James', 'Age': 21, 'Band': 'C'}\n"
     ]
    }
   ],
   "source": [
    "# Creating a dictionary\n",
    "# James wants to insert Employee Data \n",
    "emp_data={'Name':'James','Age':21,'Band':'C'}\n",
    "print(emp_data)"
   ]
  },
  {
   "cell_type": "code",
   "execution_count": 21,
   "id": "402f9c66",
   "metadata": {},
   "outputs": [
    {
     "name": "stdout",
     "output_type": "stream",
     "text": [
      "dict_keys(['Name', 'Age', 'Band'])\n"
     ]
    }
   ],
   "source": [
    "# keys() method will return keys of dictionary\n",
    "keys=emp_data.keys()\n",
    "print(keys)"
   ]
  },
  {
   "cell_type": "code",
   "execution_count": 22,
   "id": "ace0d27e",
   "metadata": {},
   "outputs": [
    {
     "name": "stdout",
     "output_type": "stream",
     "text": [
      "dict_values(['James', 21, 'C'])\n"
     ]
    }
   ],
   "source": [
    "# values() method will return values of dictionary\n",
    "print(emp_data.values())"
   ]
  },
  {
   "cell_type": "code",
   "execution_count": 23,
   "id": "38a6678b",
   "metadata": {},
   "outputs": [
    {
     "name": "stdout",
     "output_type": "stream",
     "text": [
      "Team Data: {'Name': None, 'Age': None, 'Band': None}\n"
     ]
    }
   ],
   "source": [
    "# So now he wants to insert data of his team\n",
    "team_data=dict.fromkeys(keys)\n",
    "print('Team Data:',team_data)"
   ]
  },
  {
   "cell_type": "code",
   "execution_count": 24,
   "id": "16132b88",
   "metadata": {},
   "outputs": [],
   "source": [
    "# Team data\n",
    "names=['Smith','Manali','Kabir']\n",
    "ages=[21,28,22]\n",
    "bands=['C','B','D']"
   ]
  },
  {
   "cell_type": "code",
   "execution_count": 25,
   "id": "307a1d5c",
   "metadata": {},
   "outputs": [],
   "source": [
    "# Inserting data\n",
    "team_data['Name']=names\n",
    "team_data['Age']=ages\n",
    "team_data['Band']=bands"
   ]
  },
  {
   "cell_type": "code",
   "execution_count": 26,
   "id": "47cc9d9f",
   "metadata": {},
   "outputs": [
    {
     "name": "stdout",
     "output_type": "stream",
     "text": [
      "Team Data after inserting data: {'Name': ['Smith', 'Manali', 'Kabir'], 'Age': [21, 28, 22], 'Band': ['C', 'B', 'D']}\n"
     ]
    }
   ],
   "source": [
    "print('Team Data after inserting data:',team_data)"
   ]
  },
  {
   "cell_type": "code",
   "execution_count": 27,
   "id": "10129265",
   "metadata": {},
   "outputs": [
    {
     "name": "stdout",
     "output_type": "stream",
     "text": [
      "Manali\n"
     ]
    }
   ],
   "source": [
    "# Printing data from dictionary\n",
    "print(team_data['Name'][1])"
   ]
  },
  {
   "cell_type": "code",
   "execution_count": 28,
   "id": "5e6bc351",
   "metadata": {},
   "outputs": [
    {
     "name": "stdout",
     "output_type": "stream",
     "text": [
      "Updatad Team Data: {'Name': ['Smith', 'Manali', 'Kabir'], 'Band': ['C', 'B', 'D']}\n"
     ]
    }
   ],
   "source": [
    "# He no longer requires Age attribute\n",
    "team_data.pop('Age') # removing Age attribute\n",
    "print('Updatad Team Data:',team_data)"
   ]
  },
  {
   "cell_type": "code",
   "execution_count": 29,
   "id": "2a3e82c8",
   "metadata": {},
   "outputs": [],
   "source": [
    "country_name=['Hungary','Iceland','India','Indonesia',\\\n",
    "              'Iran, Islamic Republic of','Iraq','Ireland','Isle of Man',\\\n",
    "              'Israel','Italy','Jamaica','Japan','Jersey','Jordan']\n",
    "country_code=['HU','IS','IN','ID','IR','IQ','IE','IM','IL','IT','JM','JP','JE','JO']"
   ]
  },
  {
   "cell_type": "code",
   "execution_count": 30,
   "id": "b61afa90",
   "metadata": {},
   "outputs": [],
   "source": [
    "country_dict=dict(zip(country_code,country_name)) # returns iterable in form of tuples"
   ]
  },
  {
   "cell_type": "code",
   "execution_count": 31,
   "id": "4b13d024",
   "metadata": {},
   "outputs": [
    {
     "name": "stdout",
     "output_type": "stream",
     "text": [
      "{'HU': 'Hungary', 'IS': 'Iceland', 'IN': 'India', 'ID': 'Indonesia', 'IR': 'Iran, Islamic Republic of', 'IQ': 'Iraq', 'IE': 'Ireland', 'IM': 'Isle of Man', 'IL': 'Israel', 'IT': 'Italy', 'JM': 'Jamaica', 'JP': 'Japan', 'JE': 'Jersey', 'JO': 'Jordan'}\n"
     ]
    }
   ],
   "source": [
    "# Printing the Dictionary\n",
    "print(country_dict)"
   ]
  },
  {
   "cell_type": "code",
   "execution_count": 32,
   "id": "d1f0b6c7",
   "metadata": {},
   "outputs": [
    {
     "data": {
      "text/plain": [
       "'India'"
      ]
     },
     "execution_count": 32,
     "metadata": {},
     "output_type": "execute_result"
    }
   ],
   "source": [
    "# Let's try for country 'India' if we provide 'IN'\n",
    "country_dict['IN']"
   ]
  },
  {
   "cell_type": "markdown",
   "id": "37ffcc3c",
   "metadata": {},
   "source": [
    "#Conclusion: This code demonstrates how to create lists, sets and dictionaries in Python. It also demostrates various methods and operations on these data types "
   ]
  }
 ],
 "metadata": {
  "kernelspec": {
   "display_name": "Python 3 (ipykernel)",
   "language": "python",
   "name": "python3"
  },
  "language_info": {
   "codemirror_mode": {
    "name": "ipython",
    "version": 3
   },
   "file_extension": ".py",
   "mimetype": "text/x-python",
   "name": "python",
   "nbconvert_exporter": "python",
   "pygments_lexer": "ipython3",
   "version": "3.11.5"
  }
 },
 "nbformat": 4,
 "nbformat_minor": 5
}
