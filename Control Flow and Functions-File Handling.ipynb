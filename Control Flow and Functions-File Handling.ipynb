{
 "cells": [
  {
   "cell_type": "markdown",
   "id": "8049e822",
   "metadata": {},
   "source": [
    "# Step 1: Open and read from the file\n"
   ]
  },
  {
   "cell_type": "code",
   "execution_count": 3,
   "id": "337816ff",
   "metadata": {},
   "outputs": [
    {
     "name": "stdout",
     "output_type": "stream",
     "text": [
      "﻿It’s been said that Data Scientist is the“sexiest job title of the 21st century.” Why is it such\n",
      "\n",
      "a demanded position these days? The short answer is that over the last decade there’s been a\n",
      "\n",
      "massive explosion in both the data generated and retained by companies, as well as you and\n",
      "\n",
      "me. Sometimes we call this “big data,” and like a pile of lumber we’d like to build something \n",
      "\n",
      "with it. Data scientists are the people who make sense out of all this data and figure out just \n",
      "\n",
      "what can be done with it.\n",
      "\n"
     ]
    }
   ],
   "source": [
    "file=open('C:\\\\Users\\\\adevdas\\\\Downloads\\\\2048_m4_demo3_v1_6ui_qc6ytie\\\\DataScience.txt','r', encoding=\"utf8\")\n",
    "for each in file:\n",
    "   print(each)"
   ]
  },
  {
   "cell_type": "code",
   "execution_count": 6,
   "id": "49cac3ef",
   "metadata": {},
   "outputs": [
    {
     "name": "stdout",
     "output_type": "stream",
     "text": [
      "﻿It’s been said that Data Scientist is the“sexiest job title of the 21st century.” Why is it such\n",
      "\n",
      "a demanded position these days? The short answer is that over the last decade there’s been a\n",
      "\n",
      "massive explosion in both the tata generated and retained by companies, as well as you and\n",
      "\n",
      "me. Sometimes we call this “big tata,” and like a pile of lumber we’d like to build something \n",
      "\n",
      "with it. Data scientists are the people who make sense out of all this tata and figure out just \n",
      "\n",
      "what can be done with it.\n",
      "\n"
     ]
    }
   ],
   "source": [
    "ds = open(\"C:\\\\Users\\\\adevdas\\\\Downloads\\\\2048_m4_demo3_v1_6ui_qc6ytie\\\\DataScience.txt\", \"r\", encoding=\"utf8\")\n",
    "new=open('C:\\\\Users\\\\adevdas\\\\Downloads\\\\2048_m4_demo3_v1_6ui_qc6ytie\\\\Data.txt','w', encoding=\"utf8\")\n",
    "for i in ds:\n",
    "    i=i.replace('data','tata')\n",
    "    new.write(i)\n",
    "ds.close()\n",
    "new.close()\n",
    "sci=open('C:\\\\Users\\\\adevdas\\\\Downloads\\\\2048_m4_demo3_v1_6ui_qc6ytie\\\\Data.txt','r', encoding=\"utf8\")\n",
    "for i in sci:\n",
    "    print(i)\n",
    "sci.close()"
   ]
  },
  {
   "cell_type": "markdown",
   "id": "cef869ee",
   "metadata": {},
   "source": [
    "# Step 3: Close the DataScience file"
   ]
  },
  {
   "cell_type": "code",
   "execution_count": 8,
   "id": "a432abd2",
   "metadata": {},
   "outputs": [],
   "source": [
    "ds.close()"
   ]
  },
  {
   "cell_type": "markdown",
   "id": "49e9cecc",
   "metadata": {},
   "source": [
    "# Step 4: Rename the Data file as New_Science"
   ]
  },
  {
   "cell_type": "code",
   "execution_count": 9,
   "id": "d1bcbd88",
   "metadata": {},
   "outputs": [],
   "source": [
    "import os\n",
    "os.rename(\"C:\\\\Users\\\\adevdas\\\\Downloads\\\\2048_m4_demo3_v1_6ui_qc6ytie\\\\Data.txt\",\"C:\\\\Users\\\\adevdas\\\\Downloads\\\\2048_m4_demo3_v1_6ui_qc6ytie\\\\New_Science.txt\")"
   ]
  },
  {
   "cell_type": "code",
   "execution_count": 10,
   "id": "1f829bfd",
   "metadata": {},
   "outputs": [],
   "source": [
    "file = open(\"C:\\\\Users\\\\adevdas\\\\Downloads\\\\2048_m4_demo3_v1_6ui_qc6ytie\\\\New_Science.txt\", \"a\")\n",
    "file.write(\"A data scientist is the adult version of the kid who can’t stop asking “Why?”.\")\n",
    "file.close()"
   ]
  }
 ],
 "metadata": {
  "kernelspec": {
   "display_name": "Python 3 (ipykernel)",
   "language": "python",
   "name": "python3"
  },
  "language_info": {
   "codemirror_mode": {
    "name": "ipython",
    "version": 3
   },
   "file_extension": ".py",
   "mimetype": "text/x-python",
   "name": "python",
   "nbconvert_exporter": "python",
   "pygments_lexer": "ipython3",
   "version": "3.11.5"
  }
 },
 "nbformat": 4,
 "nbformat_minor": 5
}
